{
 "cells": [
  {
   "cell_type": "markdown",
   "metadata": {},
   "source": [
    "# Codigo Python"
   ]
  },
  {
   "cell_type": "markdown",
   "metadata": {},
   "source": [
    "Importamos las librerias"
   ]
  },
  {
   "cell_type": "code",
   "execution_count": 1,
   "metadata": {},
   "outputs": [],
   "source": [
    "import time\n",
    "import gc"
   ]
  },
  {
   "cell_type": "markdown",
   "metadata": {},
   "source": [
    "Colocamos todo lo que es el codigo principal"
   ]
  },
  {
   "cell_type": "code",
   "execution_count": 5,
   "metadata": {},
   "outputs": [
    {
     "name": "stdout",
     "output_type": "stream",
     "text": [
      "100\n"
     ]
    }
   ],
   "source": [
    "longitud = int(input())\n",
    "\n",
    "def multiplicacion_matrices(A,B):\n",
    "    \"\"\"multiplica dos matrices cuadradas y retorna la matriz resultado \"\"\"\n",
    "    matrizresultado = []\n",
    "    for i in range(len(A)):\n",
    "        fila = []\n",
    "        for j in range(len(A)):\n",
    "            fila.append(0)\n",
    "        matrizresultado.append(fila)\n",
    "\n",
    "    for i in range(len(A)):\n",
    "        for j in range(len(A)):\n",
    "            for k in range(len(A)):\n",
    "                matrizresultado[i][j] += A[i][k]*B[k][j]\n",
    "    return matrizresultado\n",
    "\n",
    "def matriz(n,m):\n",
    "    \"\"\"genera una matriz llena con el numero n\"\"\"\n",
    "    matriz_1= []\n",
    "    longitud = m\n",
    "    for i in range(longitud):\n",
    "        fila_matriz = []\n",
    "        for j in range(longitud):\n",
    "            fila_matriz.append(n)\n",
    "        matriz_1.append(fila_matriz)\n",
    "    return matriz_1"
   ]
  },
  {
   "cell_type": "markdown",
   "metadata": {},
   "source": [
    "Finalmente ponemos el codigo encargado de medir el tiempo "
   ]
  },
  {
   "cell_type": "code",
   "execution_count": 6,
   "metadata": {},
   "outputs": [
    {
     "name": "stdout",
     "output_type": "stream",
     "text": [
      "el tiempo total es de 0.199500\n"
     ]
    }
   ],
   "source": [
    "matrizA = matriz(1,longitud)\n",
    "matrizB = matriz(2,longitud)\n",
    "gc.collect()\n",
    "tiempo_inicial = time.time()\n",
    "multiplicacion_matrices(matrizA,matrizB)\n",
    "tiempo_final = time.time()\n",
    "gc.collect()\n",
    "tiempo_total = tiempo_final - tiempo_inicial\n",
    "print (\"el tiempo total es de %f\" % (tiempo_total))"
   ]
  }
 ],
 "metadata": {
  "kernelspec": {
   "display_name": "Python 3",
   "language": "python",
   "name": "python3"
  },
  "language_info": {
   "codemirror_mode": {
    "name": "ipython",
    "version": 3
   },
   "file_extension": ".py",
   "mimetype": "text/x-python",
   "name": "python",
   "nbconvert_exporter": "python",
   "pygments_lexer": "ipython3",
   "version": "3.6.4"
  }
 },
 "nbformat": 4,
 "nbformat_minor": 2
}
